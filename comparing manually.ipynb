{
 "cells": [
  {
   "cell_type": "markdown",
   "id": "95fcfa83",
   "metadata": {},
   "source": [
    "# import libaries"
   ]
  },
  {
   "cell_type": "code",
   "execution_count": 25,
   "id": "34bbcfbc",
   "metadata": {},
   "outputs": [],
   "source": [
    "import pandas as pd\n",
    "from sklearn.model_selection import train_test_split\n",
    "from sklearn.tree import DecisionTreeClassifier\n",
    "from sklearn.metrics import confusion_matrix\n",
    "from imblearn.metrics import classification_report_imbalanced\n",
    "from imblearn.pipeline import Pipeline \n",
    "from imblearn.combine import SMOTETomek, SMOTEENN \n",
    "from imblearn.under_sampling import TomekLinks, RepeatedEditedNearestNeighbours, EditedNearestNeighbours, RandomUnderSampler\n",
    "from imblearn.over_sampling import SMOTENC, SMOTEN, RandomOverSampler\n",
    "from sklearn.preprocessing import StandardScaler\n",
    "from collections import Counter"
   ]
  },
  {
   "cell_type": "markdown",
   "id": "58f69fa5",
   "metadata": {},
   "source": [
    "# import the dataset"
   ]
  },
  {
   "cell_type": "code",
   "execution_count": 22,
   "id": "7a0c28b9",
   "metadata": {},
   "outputs": [],
   "source": [
    "df=pd.read_csv('../heart_disease/heart_disease.csv')\n",
    "#df.isnull().sum() #check for null values \n",
    "#df.columns"
   ]
  },
  {
   "cell_type": "code",
   "execution_count": 23,
   "id": "fbb4d44f",
   "metadata": {},
   "outputs": [],
   "source": [
    "model = DecisionTreeClassifier()"
   ]
  },
  {
   "cell_type": "markdown",
   "id": "ae26ffe2",
   "metadata": {},
   "source": [
    "# Combined: RandomOverSampler-RandomUnderSampler"
   ]
  },
  {
   "cell_type": "code",
   "execution_count": 26,
   "id": "a09ff739",
   "metadata": {},
   "outputs": [
    {
     "name": "stdout",
     "output_type": "stream",
     "text": [
      "                   pre       rec       spe        f1       geo       iba       sup\n",
      "\n",
      "        0.0       0.93      0.87      0.36      0.90      0.56      0.33     68936\n",
      "        1.0       0.23      0.36      0.87      0.28      0.56      0.29      7168\n",
      "\n",
      "avg / total       0.86      0.82      0.40      0.84      0.56      0.32     76104\n",
      "\n"
     ]
    }
   ],
   "source": [
    "X = df.drop (labels = ['HeartDiseaseorAttack'], axis =1)\n",
    "y = df['HeartDiseaseorAttack']\n",
    "\n",
    "X_train, X_test, y_train, y_test = train_test_split(X, y, test_size=0.3, random_state=0, stratify=y)\n",
    "\n",
    "over = RandomOverSampler(sampling_strategy=0.3)\n",
    "under = RandomUnderSampler(sampling_strategy=0.5)\n",
    "\n",
    "pipeline = Pipeline([('StandardScaler', StandardScaler()), ('over', over),('under', under), ('model', model)])\n",
    "\n",
    "pipeline.fit(X_train, y_train) \n",
    "\n",
    "y_hat = pipeline.predict(X_test)\n",
    "print(classification_report_imbalanced(y_test, y_hat))"
   ]
  },
  {
   "cell_type": "markdown",
   "id": "a0b8619f",
   "metadata": {},
   "source": [
    "# Combined: SmoteNC-RandomUnderSampler"
   ]
  },
  {
   "cell_type": "code",
   "execution_count": 27,
   "id": "0f37dec2",
   "metadata": {},
   "outputs": [
    {
     "name": "stdout",
     "output_type": "stream",
     "text": [
      "                   pre       rec       spe        f1       geo       iba       sup\n",
      "\n",
      "        0.0       0.93      0.84      0.43      0.88      0.60      0.37     68840\n",
      "        1.0       0.22      0.43      0.84      0.29      0.60      0.34      7264\n",
      "\n",
      "avg / total       0.86      0.80      0.47      0.83      0.60      0.37     76104\n",
      "\n"
     ]
    }
   ],
   "source": [
    "X = df.drop (labels = ['HeartDiseaseorAttack'], axis =1)\n",
    "y = df['HeartDiseaseorAttack']\n",
    "\n",
    "over=  SMOTENC(sampling_strategy=0.3, n_jobs=-1, categorical_features=[0,1,3,4,5,6,7,8,9,10,11,12,13,14,15,16,17,18,19,20])\n",
    "under= RandomUnderSampler(sampling_strategy=0.5)\n",
    "\n",
    "pipeline = Pipeline([('StandardScaler', StandardScaler()), ('over', over), ('under', under), ('model', model)])\n",
    "\n",
    "X_train, X_test, y_train, y_test = train_test_split(X, y, test_size=0.3, random_state=0)\n",
    "\n",
    "pipeline.fit(X_train, y_train) \n",
    "\n",
    "y_hat = pipeline.predict(X_test)\n",
    "print(classification_report_imbalanced(y_test, y_hat))"
   ]
  },
  {
   "cell_type": "markdown",
   "id": "cfb440e2",
   "metadata": {},
   "source": [
    "# Combined: RandomOverSampler-RepeatedENN"
   ]
  },
  {
   "cell_type": "code",
   "execution_count": 28,
   "id": "eb6de9f6",
   "metadata": {},
   "outputs": [
    {
     "name": "stdout",
     "output_type": "stream",
     "text": [
      "                   pre       rec       spe        f1       geo       iba       sup\n",
      "\n",
      "        0.0       0.95      0.82      0.58      0.88      0.69      0.48     68840\n",
      "        1.0       0.25      0.58      0.82      0.35      0.69      0.46      7264\n",
      "\n",
      "avg / total       0.88      0.79      0.60      0.83      0.69      0.48     76104\n",
      "\n"
     ]
    }
   ],
   "source": [
    "X = df.drop (labels = ['HeartDiseaseorAttack'], axis =1)\n",
    "y = df['HeartDiseaseorAttack']\n",
    "\n",
    "over=  RandomOverSampler(sampling_strategy=0.3)\n",
    "under= RepeatedEditedNearestNeighbours(sampling_strategy='majority', max_iter=15, kind_sel='all', n_jobs= -1)\n",
    "\n",
    "pipeline = Pipeline([('StandardScaler', StandardScaler()), ('over', over), ('under', under), ('model', model)])\n",
    "\n",
    "X_train, X_test, y_train, y_test = train_test_split(X, y, test_size=0.3, random_state=0)\n",
    "\n",
    "pipeline.fit(X_train, y_train) \n",
    "\n",
    "y_hat = pipeline.predict(X_test)\n",
    "print(classification_report_imbalanced(y_test, y_hat))"
   ]
  },
  {
   "cell_type": "markdown",
   "id": "0cc6513f",
   "metadata": {},
   "source": [
    "# Combined: SmoteNCRepeatedEditedNearestNeighbours"
   ]
  },
  {
   "cell_type": "code",
   "execution_count": 29,
   "id": "81d4fa83",
   "metadata": {},
   "outputs": [
    {
     "name": "stdout",
     "output_type": "stream",
     "text": [
      "                   pre       rec       spe        f1       geo       iba       sup\n",
      "\n",
      "        0.0       0.96      0.74      0.69      0.84      0.72      0.52     68840\n",
      "        1.0       0.22      0.69      0.74      0.34      0.72      0.51      7264\n",
      "\n",
      "avg / total       0.89      0.74      0.70      0.79      0.72      0.52     76104\n",
      "\n"
     ]
    }
   ],
   "source": [
    "X = df.drop (labels = ['HeartDiseaseorAttack'], axis =1)\n",
    "y = df['HeartDiseaseorAttack']\n",
    "\n",
    "over=  SMOTENC(sampling_strategy=0.3, n_jobs=-1, categorical_features=[0,1,3,4,5,6,7,8,9,10,11,12,13,14,15,16,17,18,19,20])\n",
    "under= RepeatedEditedNearestNeighbours(sampling_strategy='majority', max_iter=15, kind_sel='all', n_jobs= -1)\n",
    "\n",
    "pipeline = Pipeline([('StandardScaler', StandardScaler()), ('over', over), ('under', under), ('model', model)])\n",
    "\n",
    "X_train, X_test, y_train, y_test = train_test_split(X, y, test_size=0.3, random_state=0)\n",
    "\n",
    "pipeline.fit(X_train, y_train) \n",
    "\n",
    "y_hat = pipeline.predict(X_test)\n",
    "print(classification_report_imbalanced(y_test, y_hat))"
   ]
  },
  {
   "cell_type": "markdown",
   "id": "96933561",
   "metadata": {},
   "source": [
    "# Combined: SMOTEN-EditedNearestNeighbours"
   ]
  },
  {
   "cell_type": "code",
   "execution_count": null,
   "id": "6a8df975",
   "metadata": {},
   "outputs": [],
   "source": [
    "X = df.drop (labels = ['HeartDiseaseorAttack'], axis =1)\n",
    "y = df['HeartDiseaseorAttack']\n",
    "\n",
    "over=  SMOTEN(sampling_strategy=0.3, n_jobs=-1)\n",
    "under= EditedNearestNeighbours(sampling_strategy='majority', kind_sel='all', n_jobs= -1)\n",
    "\n",
    "pipeline = Pipeline([('over', over), ('under', under), ('model', model)])\n",
    "\n",
    "X_train, X_test, y_train, y_test = train_test_split(X, y, test_size=0.3, random_state=0)\n",
    "\n",
    "pipeline.fit(X_train, y_train) \n",
    "\n",
    "y_hat = pipeline.predict(X_test)\n",
    "print(classification_report_imbalanced(y_test, y_hat))"
   ]
  },
  {
   "cell_type": "markdown",
   "id": "e800328b",
   "metadata": {},
   "source": [
    "# without pipeline (for testing)"
   ]
  },
  {
   "cell_type": "code",
   "execution_count": 11,
   "id": "8d9816ee",
   "metadata": {},
   "outputs": [
    {
     "name": "stdout",
     "output_type": "stream",
     "text": [
      "Original dataset shape Counter({0.0: 229787, 1.0: 23893})\n",
      "Y train Counter({0.0: 160947, 1.0: 16629})\n",
      "Y test Counter({0.0: 68840, 1.0: 7264})\n",
      "Y balanced Counter({0.0: 125906, 1.0: 48284})\n"
     ]
    }
   ],
   "source": [
    "print(f'Original dataset shape {Counter(y)}')\n",
    "\n",
    "X_train, X_test, y_train , y_test = train_test_split(X,y,test_size=0.3, random_state=0) \n",
    "\n",
    "print(f'Y train {Counter(y_train)}')\n",
    "print(f'Y test {Counter(y_test)}')\n",
    "\n",
    "over=  SMOTEN(sampling_strategy=0.3, n_jobs=-1)\n",
    "under= EditedNearestNeighbours(sampling_strategy='majority', kind_sel='all', n_jobs= -1)\n",
    "\n",
    "X_balanced, y_balanced = over.fit_resample(X_train, y_train)\n",
    "X_balanced, y_balanced = under.fit_resample(X_balanced, y_balanced)\n",
    "\n",
    "print(f'Y balanced {Counter(y_balanced)}')"
   ]
  },
  {
   "cell_type": "code",
   "execution_count": 12,
   "id": "a3509e71",
   "metadata": {},
   "outputs": [
    {
     "name": "stdout",
     "output_type": "stream",
     "text": [
      "                   pre       rec       spe        f1       geo       iba       sup\n",
      "\n",
      "        0.0       0.94      0.83      0.50      0.88      0.64      0.43     68840\n",
      "        1.0       0.24      0.50      0.83      0.32      0.64      0.40      7264\n",
      "\n",
      "avg / total       0.87      0.80      0.53      0.83      0.64      0.42     76104\n",
      "\n"
     ]
    }
   ],
   "source": [
    "model = DecisionTreeClassifier()\n",
    "\n",
    "model.fit(X_balanced, y_balanced)\n",
    "y_pred = model.predict(X_test)\n",
    "\n",
    "print(classification_report_imbalanced(y_test, y_pred))"
   ]
  }
 ],
 "metadata": {
  "kernelspec": {
   "display_name": "Python 3 (ipykernel)",
   "language": "python",
   "name": "python3"
  },
  "language_info": {
   "codemirror_mode": {
    "name": "ipython",
    "version": 3
   },
   "file_extension": ".py",
   "mimetype": "text/x-python",
   "name": "python",
   "nbconvert_exporter": "python",
   "pygments_lexer": "ipython3",
   "version": "3.9.12"
  }
 },
 "nbformat": 4,
 "nbformat_minor": 5
}
